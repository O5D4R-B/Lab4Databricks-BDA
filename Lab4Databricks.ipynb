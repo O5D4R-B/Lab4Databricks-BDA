{
 "cells": [
  {
   "cell_type": "code",
   "execution_count": 0,
   "metadata": {
    "application/vnd.databricks.v1+cell": {
     "cellMetadata": {
      "byteLimit": 2048000,
      "rowLimit": 10000
     },
     "inputWidgets": {},
     "nuid": "9f066d08-dfb8-43e3-8c4e-b52520bbf24c",
     "showTitle": false,
     "title": ""
    }
   },
   "outputs": [],
   "source": [
    "# Paso 1: Leer el archivo CSV en un DataFrame\n",
    "file_path = \"/FileStore/tables/Mall_Customers-6.csv\"  # Ajusta la ruta si es necesario\n",
    "\n",
    "df = spark.read.csv(file_path, header=True, inferSchema=True)\n",
    "\n",
    "# Paso 2: Crear una vista temporal\n",
    "df.createOrReplaceTempView(\"mall_customers_view\")\n"
   ]
  },
  {
   "cell_type": "code",
   "execution_count": 0,
   "metadata": {
    "application/vnd.databricks.v1+cell": {
     "cellMetadata": {
      "byteLimit": 2048000,
      "rowLimit": 10000
     },
     "inputWidgets": {},
     "nuid": "34ee07c7-a092-4051-be83-460423738062",
     "showTitle": false,
     "title": ""
    }
   },
   "outputs": [
    {
     "output_type": "stream",
     "name": "stdout",
     "output_type": "stream",
     "text": [
      "+----------+------+---+---------------+--------------+\n|CustomerID| Genre|Age|Annual_Income_k|Spending_Score|\n+----------+------+---+---------------+--------------+\n|       127|  Male| 43|             71|            35|\n|       128|  Male| 40|             71|            95|\n|       129|  Male| 59|             71|            11|\n|       130|  Male| 38|             71|            75|\n|       131|  Male| 47|             71|             9|\n|       132|  Male| 39|             71|            75|\n|       133|Female| 25|             72|            34|\n|       134|Female| 31|             72|            71|\n|       135|  Male| 20|             73|             5|\n|       136|Female| 29|             73|            88|\n|       137|Female| 44|             73|             7|\n|       138|  Male| 32|             73|            73|\n|       139|  Male| 19|             74|            10|\n|       140|Female| 35|             74|            72|\n|       141|Female| 57|             75|             5|\n|       142|  Male| 32|             75|            93|\n|       143|Female| 28|             76|            40|\n|       144|Female| 32|             76|            87|\n|       145|  Male| 25|             77|            12|\n|       146|  Male| 28|             77|            97|\n+----------+------+---+---------------+--------------+\nonly showing top 20 rows\n\n"
     ]
    }
   ],
   "source": [
    "# Paso 1: Renombrar columnas\n",
    "df = df.withColumnRenamed(\"Annual Income (k$)\", \"Annual_Income_k\") \\\n",
    "       .withColumnRenamed(\"Spending Score (1-100)\", \"Spending_Score\")\n",
    "\n",
    "# Paso 2: Crear la vista temporal con las columnas renombradas\n",
    "df.createOrReplaceTempView(\"mall_customers_view\")\n",
    "\n",
    "# Consulta 2 corregida: Obtener los clientes con un ingreso anual mayor a 70,000\n",
    "spark.sql(\"SELECT * FROM mall_customers_view WHERE Annual_Income_k > 70\").show()\n"
   ]
  },
  {
   "cell_type": "code",
   "execution_count": 0,
   "metadata": {
    "application/vnd.databricks.v1+cell": {
     "cellMetadata": {
      "byteLimit": 2048000,
      "rowLimit": 10000
     },
     "inputWidgets": {},
     "nuid": "65101445-051a-40e8-8660-34d77cfcd80f",
     "showTitle": false,
     "title": ""
    }
   },
   "outputs": [
    {
     "output_type": "stream",
     "name": "stdout",
     "output_type": "stream",
     "text": [
      "+----------+------+---+---------------+--------------+\n|CustomerID| Genre|Age|Annual_Income_k|Spending_Score|\n+----------+------+---+---------------+--------------+\n|         1|  Male| 19|             15|            39|\n|         2|  Male| 21|             15|            81|\n|         3|Female| 20|             16|             6|\n|         4|Female| 23|             16|            77|\n|         5|Female| 31|             17|            40|\n|         6|Female| 22|             17|            76|\n|         7|Female| 35|             18|             6|\n|         8|Female| 23|             18|            94|\n|         9|  Male| 64|             19|             3|\n|        10|Female| 30|             19|            72|\n|        11|  Male| 67|             19|            14|\n|        12|Female| 35|             19|            99|\n|        13|Female| 58|             20|            15|\n|        14|Female| 24|             20|            77|\n|        15|  Male| 37|             20|            13|\n|        16|  Male| 22|             20|            79|\n|        17|Female| 35|             21|            35|\n|        18|  Male| 20|             21|            66|\n|        19|  Male| 52|             23|            29|\n|        20|Female| 35|             23|            98|\n+----------+------+---+---------------+--------------+\nonly showing top 20 rows\n\n"
     ]
    }
   ],
   "source": [
    "# Crear una tabla temporal persistente desde la vista temporal\n",
    "spark.sql(\"CREATE OR REPLACE TEMPORARY VIEW mall_customers_temp AS SELECT * FROM mall_customers_view\")\n",
    "\n",
    "# Verificar que la tabla temporal se haya creado correctamente\n",
    "spark.sql(\"SELECT * FROM mall_customers_temp\").show()\n"
   ]
  },
  {
   "cell_type": "code",
   "execution_count": 0,
   "metadata": {
    "application/vnd.databricks.v1+cell": {
     "cellMetadata": {
      "byteLimit": 2048000,
      "rowLimit": 10000
     },
     "inputWidgets": {},
     "nuid": "e9d8558d-6d1e-4739-b4a7-3610e2952917",
     "showTitle": false,
     "title": ""
    }
   },
   "outputs": [],
   "source": [
    "# Consulta para almacenar los resultados: Promedio del puntaje de gasto por género\n",
    "result_df = spark.sql(\"SELECT Genre, AVG(Spending_Score) AS avg_spending FROM mall_customers_view GROUP BY Genre\")\n",
    "\n",
    "# Guardar el resultado como archivo Parquet\n",
    "result_df.write.mode(\"overwrite\").parquet(\"/FileStore/output/avg_spending_by_genre.parquet\")\n"
   ]
  },
  {
   "cell_type": "code",
   "execution_count": 0,
   "metadata": {
    "application/vnd.databricks.v1+cell": {
     "cellMetadata": {
      "byteLimit": 2048000,
      "implicitDf": true,
      "rowLimit": 10000
     },
     "inputWidgets": {},
     "nuid": "882e7a1e-5089-4a01-8e24-dd8f23a63e3e",
     "showTitle": false,
     "title": ""
    }
   },
   "outputs": [
    {
     "output_type": "display_data",
     "data": {
      "text/html": [
       "<style scoped>\n",
       "  .table-result-container {\n",
       "    max-height: 300px;\n",
       "    overflow: auto;\n",
       "  }\n",
       "  table, th, td {\n",
       "    border: 1px solid black;\n",
       "    border-collapse: collapse;\n",
       "  }\n",
       "  th, td {\n",
       "    padding: 5px;\n",
       "  }\n",
       "  th {\n",
       "    text-align: left;\n",
       "  }\n",
       "</style><div class='table-result-container'><table class='table-result'><thead style='background-color: white'><tr><th>total_customers</th></tr></thead><tbody><tr><td>200</td></tr></tbody></table></div>"
      ]
     },
     "metadata": {
      "application/vnd.databricks.v1+output": {
       "addedWidgets": {},
       "aggData": [],
       "aggError": "",
       "aggOverflow": false,
       "aggSchema": [],
       "aggSeriesLimitReached": false,
       "aggType": "",
       "arguments": {},
       "columnCustomDisplayInfos": {},
       "data": [
        [
         200
        ]
       ],
       "datasetInfos": [],
       "dbfsResultPath": null,
       "isJsonSchema": true,
       "metadata": {},
       "overflow": false,
       "plotOptions": {
        "customPlotOptions": {},
        "displayType": "table",
        "pivotAggregation": null,
        "pivotColumns": null,
        "xColumns": null,
        "yColumns": null
       },
       "removedWidgets": [],
       "schema": [
        {
         "metadata": "{}",
         "name": "total_customers",
         "type": "\"long\""
        }
       ],
       "type": "table"
      }
     },
     "output_type": "display_data"
    }
   ],
   "source": [
    "%sql\n",
    "SELECT COUNT(*) AS total_customers FROM mall_customers_view;\n"
   ]
  },
  {
   "cell_type": "code",
   "execution_count": 0,
   "metadata": {
    "application/vnd.databricks.v1+cell": {
     "cellMetadata": {
      "byteLimit": 2048000,
      "implicitDf": true,
      "rowLimit": 10000
     },
     "inputWidgets": {},
     "nuid": "a7bf55e8-cde5-4218-946f-17c3308c47b3",
     "showTitle": false,
     "title": ""
    }
   },
   "outputs": [
    {
     "output_type": "display_data",
     "data": {
      "text/html": [
       "<style scoped>\n",
       "  .table-result-container {\n",
       "    max-height: 300px;\n",
       "    overflow: auto;\n",
       "  }\n",
       "  table, th, td {\n",
       "    border: 1px solid black;\n",
       "    border-collapse: collapse;\n",
       "  }\n",
       "  th, td {\n",
       "    padding: 5px;\n",
       "  }\n",
       "  th {\n",
       "    text-align: left;\n",
       "  }\n",
       "</style><div class='table-result-container'><table class='table-result'><thead style='background-color: white'><tr><th>CustomerID</th><th>Genre</th><th>Age</th><th>Annual_Income_k</th><th>Spending_Score</th></tr></thead><tbody><tr><td>127</td><td>Male</td><td>43</td><td>71</td><td>35</td></tr><tr><td>128</td><td>Male</td><td>40</td><td>71</td><td>95</td></tr><tr><td>129</td><td>Male</td><td>59</td><td>71</td><td>11</td></tr><tr><td>130</td><td>Male</td><td>38</td><td>71</td><td>75</td></tr><tr><td>131</td><td>Male</td><td>47</td><td>71</td><td>9</td></tr><tr><td>132</td><td>Male</td><td>39</td><td>71</td><td>75</td></tr><tr><td>133</td><td>Female</td><td>25</td><td>72</td><td>34</td></tr><tr><td>134</td><td>Female</td><td>31</td><td>72</td><td>71</td></tr><tr><td>135</td><td>Male</td><td>20</td><td>73</td><td>5</td></tr><tr><td>136</td><td>Female</td><td>29</td><td>73</td><td>88</td></tr><tr><td>137</td><td>Female</td><td>44</td><td>73</td><td>7</td></tr><tr><td>138</td><td>Male</td><td>32</td><td>73</td><td>73</td></tr><tr><td>139</td><td>Male</td><td>19</td><td>74</td><td>10</td></tr><tr><td>140</td><td>Female</td><td>35</td><td>74</td><td>72</td></tr><tr><td>141</td><td>Female</td><td>57</td><td>75</td><td>5</td></tr><tr><td>142</td><td>Male</td><td>32</td><td>75</td><td>93</td></tr><tr><td>143</td><td>Female</td><td>28</td><td>76</td><td>40</td></tr><tr><td>144</td><td>Female</td><td>32</td><td>76</td><td>87</td></tr><tr><td>145</td><td>Male</td><td>25</td><td>77</td><td>12</td></tr><tr><td>146</td><td>Male</td><td>28</td><td>77</td><td>97</td></tr><tr><td>147</td><td>Male</td><td>48</td><td>77</td><td>36</td></tr><tr><td>148</td><td>Female</td><td>32</td><td>77</td><td>74</td></tr><tr><td>149</td><td>Female</td><td>34</td><td>78</td><td>22</td></tr><tr><td>150</td><td>Male</td><td>34</td><td>78</td><td>90</td></tr><tr><td>151</td><td>Male</td><td>43</td><td>78</td><td>17</td></tr><tr><td>152</td><td>Male</td><td>39</td><td>78</td><td>88</td></tr><tr><td>153</td><td>Female</td><td>44</td><td>78</td><td>20</td></tr><tr><td>154</td><td>Female</td><td>38</td><td>78</td><td>76</td></tr><tr><td>155</td><td>Female</td><td>47</td><td>78</td><td>16</td></tr><tr><td>156</td><td>Female</td><td>27</td><td>78</td><td>89</td></tr><tr><td>157</td><td>Male</td><td>37</td><td>78</td><td>1</td></tr><tr><td>158</td><td>Female</td><td>30</td><td>78</td><td>78</td></tr><tr><td>159</td><td>Male</td><td>34</td><td>78</td><td>1</td></tr><tr><td>160</td><td>Female</td><td>30</td><td>78</td><td>73</td></tr><tr><td>161</td><td>Female</td><td>56</td><td>79</td><td>35</td></tr><tr><td>162</td><td>Female</td><td>29</td><td>79</td><td>83</td></tr><tr><td>163</td><td>Male</td><td>19</td><td>81</td><td>5</td></tr><tr><td>164</td><td>Female</td><td>31</td><td>81</td><td>93</td></tr><tr><td>165</td><td>Male</td><td>50</td><td>85</td><td>26</td></tr><tr><td>166</td><td>Female</td><td>36</td><td>85</td><td>75</td></tr><tr><td>167</td><td>Male</td><td>42</td><td>86</td><td>20</td></tr><tr><td>168</td><td>Female</td><td>33</td><td>86</td><td>95</td></tr><tr><td>169</td><td>Female</td><td>36</td><td>87</td><td>27</td></tr><tr><td>170</td><td>Male</td><td>32</td><td>87</td><td>63</td></tr><tr><td>171</td><td>Male</td><td>40</td><td>87</td><td>13</td></tr><tr><td>172</td><td>Male</td><td>28</td><td>87</td><td>75</td></tr><tr><td>173</td><td>Male</td><td>36</td><td>87</td><td>10</td></tr><tr><td>174</td><td>Male</td><td>36</td><td>87</td><td>92</td></tr><tr><td>175</td><td>Female</td><td>52</td><td>88</td><td>13</td></tr><tr><td>176</td><td>Female</td><td>30</td><td>88</td><td>86</td></tr><tr><td>177</td><td>Male</td><td>58</td><td>88</td><td>15</td></tr><tr><td>178</td><td>Male</td><td>27</td><td>88</td><td>69</td></tr><tr><td>179</td><td>Male</td><td>59</td><td>93</td><td>14</td></tr><tr><td>180</td><td>Male</td><td>35</td><td>93</td><td>90</td></tr><tr><td>181</td><td>Female</td><td>37</td><td>97</td><td>32</td></tr><tr><td>182</td><td>Female</td><td>32</td><td>97</td><td>86</td></tr><tr><td>183</td><td>Male</td><td>46</td><td>98</td><td>15</td></tr><tr><td>184</td><td>Female</td><td>29</td><td>98</td><td>88</td></tr><tr><td>185</td><td>Female</td><td>41</td><td>99</td><td>39</td></tr><tr><td>186</td><td>Male</td><td>30</td><td>99</td><td>97</td></tr><tr><td>187</td><td>Female</td><td>54</td><td>101</td><td>24</td></tr><tr><td>188</td><td>Male</td><td>28</td><td>101</td><td>68</td></tr><tr><td>189</td><td>Female</td><td>41</td><td>103</td><td>17</td></tr><tr><td>190</td><td>Female</td><td>36</td><td>103</td><td>85</td></tr><tr><td>191</td><td>Female</td><td>34</td><td>103</td><td>23</td></tr><tr><td>192</td><td>Female</td><td>32</td><td>103</td><td>69</td></tr><tr><td>193</td><td>Male</td><td>33</td><td>113</td><td>8</td></tr><tr><td>194</td><td>Female</td><td>38</td><td>113</td><td>91</td></tr><tr><td>195</td><td>Female</td><td>47</td><td>120</td><td>16</td></tr><tr><td>196</td><td>Female</td><td>35</td><td>120</td><td>79</td></tr><tr><td>197</td><td>Female</td><td>45</td><td>126</td><td>28</td></tr><tr><td>198</td><td>Male</td><td>32</td><td>126</td><td>74</td></tr><tr><td>199</td><td>Male</td><td>32</td><td>137</td><td>18</td></tr><tr><td>200</td><td>Male</td><td>30</td><td>137</td><td>83</td></tr></tbody></table></div>"
      ]
     },
     "metadata": {
      "application/vnd.databricks.v1+output": {
       "addedWidgets": {},
       "aggData": [],
       "aggError": "",
       "aggOverflow": false,
       "aggSchema": [],
       "aggSeriesLimitReached": false,
       "aggType": "",
       "arguments": {},
       "columnCustomDisplayInfos": {},
       "data": [
        [
         127,
         "Male",
         43,
         71,
         35
        ],
        [
         128,
         "Male",
         40,
         71,
         95
        ],
        [
         129,
         "Male",
         59,
         71,
         11
        ],
        [
         130,
         "Male",
         38,
         71,
         75
        ],
        [
         131,
         "Male",
         47,
         71,
         9
        ],
        [
         132,
         "Male",
         39,
         71,
         75
        ],
        [
         133,
         "Female",
         25,
         72,
         34
        ],
        [
         134,
         "Female",
         31,
         72,
         71
        ],
        [
         135,
         "Male",
         20,
         73,
         5
        ],
        [
         136,
         "Female",
         29,
         73,
         88
        ],
        [
         137,
         "Female",
         44,
         73,
         7
        ],
        [
         138,
         "Male",
         32,
         73,
         73
        ],
        [
         139,
         "Male",
         19,
         74,
         10
        ],
        [
         140,
         "Female",
         35,
         74,
         72
        ],
        [
         141,
         "Female",
         57,
         75,
         5
        ],
        [
         142,
         "Male",
         32,
         75,
         93
        ],
        [
         143,
         "Female",
         28,
         76,
         40
        ],
        [
         144,
         "Female",
         32,
         76,
         87
        ],
        [
         145,
         "Male",
         25,
         77,
         12
        ],
        [
         146,
         "Male",
         28,
         77,
         97
        ],
        [
         147,
         "Male",
         48,
         77,
         36
        ],
        [
         148,
         "Female",
         32,
         77,
         74
        ],
        [
         149,
         "Female",
         34,
         78,
         22
        ],
        [
         150,
         "Male",
         34,
         78,
         90
        ],
        [
         151,
         "Male",
         43,
         78,
         17
        ],
        [
         152,
         "Male",
         39,
         78,
         88
        ],
        [
         153,
         "Female",
         44,
         78,
         20
        ],
        [
         154,
         "Female",
         38,
         78,
         76
        ],
        [
         155,
         "Female",
         47,
         78,
         16
        ],
        [
         156,
         "Female",
         27,
         78,
         89
        ],
        [
         157,
         "Male",
         37,
         78,
         1
        ],
        [
         158,
         "Female",
         30,
         78,
         78
        ],
        [
         159,
         "Male",
         34,
         78,
         1
        ],
        [
         160,
         "Female",
         30,
         78,
         73
        ],
        [
         161,
         "Female",
         56,
         79,
         35
        ],
        [
         162,
         "Female",
         29,
         79,
         83
        ],
        [
         163,
         "Male",
         19,
         81,
         5
        ],
        [
         164,
         "Female",
         31,
         81,
         93
        ],
        [
         165,
         "Male",
         50,
         85,
         26
        ],
        [
         166,
         "Female",
         36,
         85,
         75
        ],
        [
         167,
         "Male",
         42,
         86,
         20
        ],
        [
         168,
         "Female",
         33,
         86,
         95
        ],
        [
         169,
         "Female",
         36,
         87,
         27
        ],
        [
         170,
         "Male",
         32,
         87,
         63
        ],
        [
         171,
         "Male",
         40,
         87,
         13
        ],
        [
         172,
         "Male",
         28,
         87,
         75
        ],
        [
         173,
         "Male",
         36,
         87,
         10
        ],
        [
         174,
         "Male",
         36,
         87,
         92
        ],
        [
         175,
         "Female",
         52,
         88,
         13
        ],
        [
         176,
         "Female",
         30,
         88,
         86
        ],
        [
         177,
         "Male",
         58,
         88,
         15
        ],
        [
         178,
         "Male",
         27,
         88,
         69
        ],
        [
         179,
         "Male",
         59,
         93,
         14
        ],
        [
         180,
         "Male",
         35,
         93,
         90
        ],
        [
         181,
         "Female",
         37,
         97,
         32
        ],
        [
         182,
         "Female",
         32,
         97,
         86
        ],
        [
         183,
         "Male",
         46,
         98,
         15
        ],
        [
         184,
         "Female",
         29,
         98,
         88
        ],
        [
         185,
         "Female",
         41,
         99,
         39
        ],
        [
         186,
         "Male",
         30,
         99,
         97
        ],
        [
         187,
         "Female",
         54,
         101,
         24
        ],
        [
         188,
         "Male",
         28,
         101,
         68
        ],
        [
         189,
         "Female",
         41,
         103,
         17
        ],
        [
         190,
         "Female",
         36,
         103,
         85
        ],
        [
         191,
         "Female",
         34,
         103,
         23
        ],
        [
         192,
         "Female",
         32,
         103,
         69
        ],
        [
         193,
         "Male",
         33,
         113,
         8
        ],
        [
         194,
         "Female",
         38,
         113,
         91
        ],
        [
         195,
         "Female",
         47,
         120,
         16
        ],
        [
         196,
         "Female",
         35,
         120,
         79
        ],
        [
         197,
         "Female",
         45,
         126,
         28
        ],
        [
         198,
         "Male",
         32,
         126,
         74
        ],
        [
         199,
         "Male",
         32,
         137,
         18
        ],
        [
         200,
         "Male",
         30,
         137,
         83
        ]
       ],
       "datasetInfos": [],
       "dbfsResultPath": null,
       "isJsonSchema": true,
       "metadata": {},
       "overflow": false,
       "plotOptions": {
        "customPlotOptions": {},
        "displayType": "table",
        "pivotAggregation": null,
        "pivotColumns": null,
        "xColumns": null,
        "yColumns": null
       },
       "removedWidgets": [],
       "schema": [
        {
         "metadata": "{}",
         "name": "CustomerID",
         "type": "\"integer\""
        },
        {
         "metadata": "{}",
         "name": "Genre",
         "type": "\"string\""
        },
        {
         "metadata": "{}",
         "name": "Age",
         "type": "\"integer\""
        },
        {
         "metadata": "{}",
         "name": "Annual_Income_k",
         "type": "\"integer\""
        },
        {
         "metadata": "{}",
         "name": "Spending_Score",
         "type": "\"integer\""
        }
       ],
       "type": "table"
      }
     },
     "output_type": "display_data"
    }
   ],
   "source": [
    "%sql\n",
    "SELECT * FROM mall_customers_view WHERE Annual_Income_k > 70;\n"
   ]
  },
  {
   "cell_type": "code",
   "execution_count": 0,
   "metadata": {
    "application/vnd.databricks.v1+cell": {
     "cellMetadata": {
      "byteLimit": 2048000,
      "implicitDf": true,
      "rowLimit": 10000
     },
     "inputWidgets": {},
     "nuid": "14ffdc78-0d42-40d9-b932-ee82ee663feb",
     "showTitle": false,
     "title": ""
    }
   },
   "outputs": [
    {
     "output_type": "display_data",
     "data": {
      "text/html": [
       "<style scoped>\n",
       "  .table-result-container {\n",
       "    max-height: 300px;\n",
       "    overflow: auto;\n",
       "  }\n",
       "  table, th, td {\n",
       "    border: 1px solid black;\n",
       "    border-collapse: collapse;\n",
       "  }\n",
       "  th, td {\n",
       "    padding: 5px;\n",
       "  }\n",
       "  th {\n",
       "    text-align: left;\n",
       "  }\n",
       "</style><div class='table-result-container'><table class='table-result'><thead style='background-color: white'><tr><th>Genre</th><th>gender_count</th></tr></thead><tbody><tr><td>Female</td><td>112</td></tr><tr><td>Male</td><td>88</td></tr></tbody></table></div>"
      ]
     },
     "metadata": {
      "application/vnd.databricks.v1+output": {
       "addedWidgets": {},
       "aggData": [],
       "aggError": "",
       "aggOverflow": false,
       "aggSchema": [],
       "aggSeriesLimitReached": false,
       "aggType": "",
       "arguments": {},
       "columnCustomDisplayInfos": {},
       "data": [
        [
         "Female",
         112
        ],
        [
         "Male",
         88
        ]
       ],
       "datasetInfos": [],
       "dbfsResultPath": null,
       "isJsonSchema": true,
       "metadata": {},
       "overflow": false,
       "plotOptions": {
        "customPlotOptions": {},
        "displayType": "table",
        "pivotAggregation": null,
        "pivotColumns": null,
        "xColumns": null,
        "yColumns": null
       },
       "removedWidgets": [],
       "schema": [
        {
         "metadata": "{}",
         "name": "Genre",
         "type": "\"string\""
        },
        {
         "metadata": "{}",
         "name": "gender_count",
         "type": "\"long\""
        }
       ],
       "type": "table"
      }
     },
     "output_type": "display_data"
    }
   ],
   "source": [
    "%sql\n",
    "SELECT Genre, COUNT(*) AS gender_count FROM mall_customers_view GROUP BY Genre;\n"
   ]
  },
  {
   "cell_type": "code",
   "execution_count": 0,
   "metadata": {
    "application/vnd.databricks.v1+cell": {
     "cellMetadata": {
      "byteLimit": 2048000,
      "implicitDf": true,
      "rowLimit": 10000
     },
     "inputWidgets": {},
     "nuid": "098291c9-2a6f-4aed-b5fb-8f89a3d6a45a",
     "showTitle": false,
     "title": ""
    }
   },
   "outputs": [
    {
     "output_type": "display_data",
     "data": {
      "text/html": [
       "<style scoped>\n",
       "  .table-result-container {\n",
       "    max-height: 300px;\n",
       "    overflow: auto;\n",
       "  }\n",
       "  table, th, td {\n",
       "    border: 1px solid black;\n",
       "    border-collapse: collapse;\n",
       "  }\n",
       "  th, td {\n",
       "    padding: 5px;\n",
       "  }\n",
       "  th {\n",
       "    text-align: left;\n",
       "  }\n",
       "</style><div class='table-result-container'><table class='table-result'><thead style='background-color: white'><tr><th>Genre</th><th>avg_spending</th></tr></thead><tbody><tr><td>Female</td><td>51.526785714285715</td></tr><tr><td>Male</td><td>48.51136363636363</td></tr></tbody></table></div>"
      ]
     },
     "metadata": {
      "application/vnd.databricks.v1+output": {
       "addedWidgets": {},
       "aggData": [],
       "aggError": "",
       "aggOverflow": false,
       "aggSchema": [],
       "aggSeriesLimitReached": false,
       "aggType": "",
       "arguments": {},
       "columnCustomDisplayInfos": {},
       "data": [
        [
         "Female",
         51.526785714285715
        ],
        [
         "Male",
         48.51136363636363
        ]
       ],
       "datasetInfos": [],
       "dbfsResultPath": null,
       "isJsonSchema": true,
       "metadata": {},
       "overflow": false,
       "plotOptions": {
        "customPlotOptions": {},
        "displayType": "table",
        "pivotAggregation": null,
        "pivotColumns": null,
        "xColumns": null,
        "yColumns": null
       },
       "removedWidgets": [],
       "schema": [
        {
         "metadata": "{}",
         "name": "Genre",
         "type": "\"string\""
        },
        {
         "metadata": "{}",
         "name": "avg_spending",
         "type": "\"double\""
        }
       ],
       "type": "table"
      }
     },
     "output_type": "display_data"
    }
   ],
   "source": [
    "%sql\n",
    "SELECT Genre, AVG(Spending_Score) AS avg_spending FROM mall_customers_view GROUP BY Genre;\n"
   ]
  }
 ],
 "metadata": {
  "application/vnd.databricks.v1+notebook": {
   "dashboards": [],
   "environmentMetadata": null,
   "language": "python",
   "notebookMetadata": {
    "mostRecentlyExecutedCommandWithImplicitDF": {
     "commandId": 1635133987652178,
     "dataframes": [
      "_sqldf"
     ]
    },
    "pythonIndentUnit": 4
   },
   "notebookName": "Lab4Databricks",
   "widgets": {}
  }
 },
 "nbformat": 4,
 "nbformat_minor": 0
}
